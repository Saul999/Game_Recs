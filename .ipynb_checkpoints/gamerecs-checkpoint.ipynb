{
 "cells": [
  {
   "cell_type": "code",
   "execution_count": 1,
   "id": "113982ce",
   "metadata": {},
   "outputs": [],
   "source": [
    "#read file\n",
    "import pandas as pd\n",
    "games = pd.read_csv('backloggd_games.csv')"
   ]
  },
  {
   "cell_type": "code",
   "execution_count": 2,
   "id": "ae401b1b",
   "metadata": {
    "scrolled": true
   },
   "outputs": [
    {
     "name": "stdout",
     "output_type": "stream",
     "text": [
      "<class 'pandas.core.frame.DataFrame'>\n",
      "RangeIndex: 60000 entries, 0 to 59999\n",
      "Data columns (total 14 columns):\n",
      " #   Column        Non-Null Count  Dtype  \n",
      "---  ------        --------------  -----  \n",
      " 0   Unnamed: 0    60000 non-null  int64  \n",
      " 1   Title         60000 non-null  object \n",
      " 2   Release_Date  60000 non-null  object \n",
      " 3   Developers    60000 non-null  object \n",
      " 4   Summary       55046 non-null  object \n",
      " 5   Platforms     60000 non-null  object \n",
      " 6   Genres        60000 non-null  object \n",
      " 7   Rating        25405 non-null  float64\n",
      " 8   Plays         60000 non-null  object \n",
      " 9   Playing       60000 non-null  object \n",
      " 10  Backlogs      60000 non-null  object \n",
      " 11  Wishlist      60000 non-null  object \n",
      " 12  Lists         60000 non-null  object \n",
      " 13  Reviews       60000 non-null  object \n",
      "dtypes: float64(1), int64(1), object(12)\n",
      "memory usage: 6.4+ MB\n"
     ]
    }
   ],
   "source": [
    "games.info()"
   ]
  },
  {
   "cell_type": "markdown",
   "id": "4a3f5871",
   "metadata": {},
   "source": [
    "Feature Selection "
   ]
  },
  {
   "cell_type": "code",
   "execution_count": 3,
   "id": "caa0969a",
   "metadata": {
    "scrolled": true
   },
   "outputs": [
    {
     "data": {
      "text/plain": [
       "Index(['Unnamed: 0', 'Title', 'Release_Date', 'Developers', 'Summary',\n",
       "       'Platforms', 'Genres', 'Rating', 'Plays', 'Playing', 'Backlogs',\n",
       "       'Wishlist', 'Lists', 'Reviews'],\n",
       "      dtype='object')"
      ]
     },
     "execution_count": 3,
     "metadata": {},
     "output_type": "execute_result"
    }
   ],
   "source": [
    "games.columns"
   ]
  },
  {
   "cell_type": "code",
   "execution_count": 4,
   "id": "f98518e7",
   "metadata": {},
   "outputs": [],
   "source": [
    "games=games[['Title', 'Genres', 'Rating', 'Reviews', 'Summary']]\n"
   ]
  },
  {
   "cell_type": "code",
   "execution_count": 5,
   "id": "c550bc85",
   "metadata": {
    "scrolled": true
   },
   "outputs": [
    {
     "data": {
      "text/html": [
       "<div>\n",
       "<style scoped>\n",
       "    .dataframe tbody tr th:only-of-type {\n",
       "        vertical-align: middle;\n",
       "    }\n",
       "\n",
       "    .dataframe tbody tr th {\n",
       "        vertical-align: top;\n",
       "    }\n",
       "\n",
       "    .dataframe thead th {\n",
       "        text-align: right;\n",
       "    }\n",
       "</style>\n",
       "<table border=\"1\" class=\"dataframe\">\n",
       "  <thead>\n",
       "    <tr style=\"text-align: right;\">\n",
       "      <th></th>\n",
       "      <th>Title</th>\n",
       "      <th>Genres</th>\n",
       "      <th>Rating</th>\n",
       "      <th>Reviews</th>\n",
       "      <th>Summary</th>\n",
       "    </tr>\n",
       "  </thead>\n",
       "  <tbody>\n",
       "    <tr>\n",
       "      <th>0</th>\n",
       "      <td>Elden Ring</td>\n",
       "      <td>['Adventure', 'RPG']</td>\n",
       "      <td>4.5</td>\n",
       "      <td>3K</td>\n",
       "      <td>Elden Ring is a fantasy, action and open world...</td>\n",
       "    </tr>\n",
       "    <tr>\n",
       "      <th>1</th>\n",
       "      <td>The Legend of Zelda: Breath of the Wild</td>\n",
       "      <td>['Adventure', 'Puzzle']</td>\n",
       "      <td>4.4</td>\n",
       "      <td>3K</td>\n",
       "      <td>The Legend of Zelda: Breath of the Wild is the...</td>\n",
       "    </tr>\n",
       "    <tr>\n",
       "      <th>2</th>\n",
       "      <td>Hades</td>\n",
       "      <td>['Adventure', 'Brawler', 'Indie', 'RPG']</td>\n",
       "      <td>4.3</td>\n",
       "      <td>2.1K</td>\n",
       "      <td>A rogue-lite hack and slash dungeon crawler in...</td>\n",
       "    </tr>\n",
       "    <tr>\n",
       "      <th>3</th>\n",
       "      <td>Hollow Knight</td>\n",
       "      <td>['Adventure', 'Indie', 'Platform']</td>\n",
       "      <td>4.4</td>\n",
       "      <td>2.1K</td>\n",
       "      <td>A 2D metroidvania with an emphasis on close co...</td>\n",
       "    </tr>\n",
       "    <tr>\n",
       "      <th>4</th>\n",
       "      <td>Undertale</td>\n",
       "      <td>['Adventure', 'Indie', 'RPG', 'Turn Based Stra...</td>\n",
       "      <td>4.2</td>\n",
       "      <td>2.5K</td>\n",
       "      <td>A small child falls into the Underground, wher...</td>\n",
       "    </tr>\n",
       "    <tr>\n",
       "      <th>...</th>\n",
       "      <td>...</td>\n",
       "      <td>...</td>\n",
       "      <td>...</td>\n",
       "      <td>...</td>\n",
       "      <td>...</td>\n",
       "    </tr>\n",
       "    <tr>\n",
       "      <th>59995</th>\n",
       "      <td>Dragon Spirits</td>\n",
       "      <td>['RPG']</td>\n",
       "      <td>NaN</td>\n",
       "      <td>0</td>\n",
       "      <td>While constantly working on a video game witho...</td>\n",
       "    </tr>\n",
       "    <tr>\n",
       "      <th>59996</th>\n",
       "      <td>Pathfinder: Kingmaker - Definitive Edition</td>\n",
       "      <td>['RPG', 'Tactical']</td>\n",
       "      <td>3.7</td>\n",
       "      <td>1</td>\n",
       "      <td>The Definitive Edition will have all of the DL...</td>\n",
       "    </tr>\n",
       "    <tr>\n",
       "      <th>59997</th>\n",
       "      <td>Sainth</td>\n",
       "      <td>[]</td>\n",
       "      <td>NaN</td>\n",
       "      <td>0</td>\n",
       "      <td>Years after the events of \"Wraith\", a young gi...</td>\n",
       "    </tr>\n",
       "    <tr>\n",
       "      <th>59998</th>\n",
       "      <td>Dragon Spirits</td>\n",
       "      <td>['RPG']</td>\n",
       "      <td>NaN</td>\n",
       "      <td>0</td>\n",
       "      <td>While constantly working on a video game witho...</td>\n",
       "    </tr>\n",
       "    <tr>\n",
       "      <th>59999</th>\n",
       "      <td>Pathfinder: Kingmaker - Definitive Edition</td>\n",
       "      <td>['RPG', 'Tactical']</td>\n",
       "      <td>3.7</td>\n",
       "      <td>1</td>\n",
       "      <td>The Definitive Edition will have all of the DL...</td>\n",
       "    </tr>\n",
       "  </tbody>\n",
       "</table>\n",
       "<p>60000 rows × 5 columns</p>\n",
       "</div>"
      ],
      "text/plain": [
       "                                            Title  \\\n",
       "0                                      Elden Ring   \n",
       "1         The Legend of Zelda: Breath of the Wild   \n",
       "2                                           Hades   \n",
       "3                                   Hollow Knight   \n",
       "4                                       Undertale   \n",
       "...                                           ...   \n",
       "59995                              Dragon Spirits   \n",
       "59996  Pathfinder: Kingmaker - Definitive Edition   \n",
       "59997                                      Sainth   \n",
       "59998                              Dragon Spirits   \n",
       "59999  Pathfinder: Kingmaker - Definitive Edition   \n",
       "\n",
       "                                                  Genres  Rating Reviews  \\\n",
       "0                                   ['Adventure', 'RPG']     4.5      3K   \n",
       "1                                ['Adventure', 'Puzzle']     4.4      3K   \n",
       "2               ['Adventure', 'Brawler', 'Indie', 'RPG']     4.3    2.1K   \n",
       "3                     ['Adventure', 'Indie', 'Platform']     4.4    2.1K   \n",
       "4      ['Adventure', 'Indie', 'RPG', 'Turn Based Stra...     4.2    2.5K   \n",
       "...                                                  ...     ...     ...   \n",
       "59995                                            ['RPG']     NaN       0   \n",
       "59996                                ['RPG', 'Tactical']     3.7       1   \n",
       "59997                                                 []     NaN       0   \n",
       "59998                                            ['RPG']     NaN       0   \n",
       "59999                                ['RPG', 'Tactical']     3.7       1   \n",
       "\n",
       "                                                 Summary  \n",
       "0      Elden Ring is a fantasy, action and open world...  \n",
       "1      The Legend of Zelda: Breath of the Wild is the...  \n",
       "2      A rogue-lite hack and slash dungeon crawler in...  \n",
       "3      A 2D metroidvania with an emphasis on close co...  \n",
       "4      A small child falls into the Underground, wher...  \n",
       "...                                                  ...  \n",
       "59995  While constantly working on a video game witho...  \n",
       "59996  The Definitive Edition will have all of the DL...  \n",
       "59997  Years after the events of \"Wraith\", a young gi...  \n",
       "59998  While constantly working on a video game witho...  \n",
       "59999  The Definitive Edition will have all of the DL...  \n",
       "\n",
       "[60000 rows x 5 columns]"
      ]
     },
     "execution_count": 5,
     "metadata": {},
     "output_type": "execute_result"
    }
   ],
   "source": [
    "games"
   ]
  },
  {
   "cell_type": "code",
   "execution_count": 6,
   "id": "af7155e6",
   "metadata": {},
   "outputs": [],
   "source": [
    "#drops\n",
    "games = games.dropna(subset=['Rating'])    "
   ]
  },
  {
   "cell_type": "code",
   "execution_count": 7,
   "id": "b131b5eb",
   "metadata": {
    "scrolled": false
   },
   "outputs": [
    {
     "name": "stderr",
     "output_type": "stream",
     "text": [
      "/var/folders/h5/fs3njrqd0l78qd5c3vxbjwx00000gn/T/ipykernel_66095/4293346749.py:2: SettingWithCopyWarning: \n",
      "A value is trying to be set on a copy of a slice from a DataFrame.\n",
      "Try using .loc[row_indexer,col_indexer] = value instead\n",
      "\n",
      "See the caveats in the documentation: https://pandas.pydata.org/pandas-docs/stable/user_guide/indexing.html#returning-a-view-versus-a-copy\n",
      "  games.loc[:,'tags'] = games['Summary'] + games['Genres']\n"
     ]
    }
   ],
   "source": [
    "#combines Summary and Genres into 1 column\n",
    "games.loc[:,'tags'] = games['Summary'] + games['Genres']"
   ]
  },
  {
   "cell_type": "code",
   "execution_count": 8,
   "id": "b4d111a5",
   "metadata": {
    "scrolled": true
   },
   "outputs": [],
   "source": [
    "#drops those 2 columes since we saved them into the new column \"tags\"\n",
    "new_data = games.drop(['Genres','Summary'], axis=1)"
   ]
  },
  {
   "cell_type": "code",
   "execution_count": 9,
   "id": "1727927d",
   "metadata": {},
   "outputs": [
    {
     "data": {
      "text/html": [
       "<div>\n",
       "<style scoped>\n",
       "    .dataframe tbody tr th:only-of-type {\n",
       "        vertical-align: middle;\n",
       "    }\n",
       "\n",
       "    .dataframe tbody tr th {\n",
       "        vertical-align: top;\n",
       "    }\n",
       "\n",
       "    .dataframe thead th {\n",
       "        text-align: right;\n",
       "    }\n",
       "</style>\n",
       "<table border=\"1\" class=\"dataframe\">\n",
       "  <thead>\n",
       "    <tr style=\"text-align: right;\">\n",
       "      <th></th>\n",
       "      <th>Title</th>\n",
       "      <th>Rating</th>\n",
       "      <th>Reviews</th>\n",
       "      <th>tags</th>\n",
       "    </tr>\n",
       "  </thead>\n",
       "  <tbody>\n",
       "    <tr>\n",
       "      <th>0</th>\n",
       "      <td>Elden Ring</td>\n",
       "      <td>4.5</td>\n",
       "      <td>3K</td>\n",
       "      <td>Elden Ring is a fantasy, action and open world...</td>\n",
       "    </tr>\n",
       "    <tr>\n",
       "      <th>1</th>\n",
       "      <td>The Legend of Zelda: Breath of the Wild</td>\n",
       "      <td>4.4</td>\n",
       "      <td>3K</td>\n",
       "      <td>The Legend of Zelda: Breath of the Wild is the...</td>\n",
       "    </tr>\n",
       "    <tr>\n",
       "      <th>2</th>\n",
       "      <td>Hades</td>\n",
       "      <td>4.3</td>\n",
       "      <td>2.1K</td>\n",
       "      <td>A rogue-lite hack and slash dungeon crawler in...</td>\n",
       "    </tr>\n",
       "    <tr>\n",
       "      <th>3</th>\n",
       "      <td>Hollow Knight</td>\n",
       "      <td>4.4</td>\n",
       "      <td>2.1K</td>\n",
       "      <td>A 2D metroidvania with an emphasis on close co...</td>\n",
       "    </tr>\n",
       "    <tr>\n",
       "      <th>4</th>\n",
       "      <td>Undertale</td>\n",
       "      <td>4.2</td>\n",
       "      <td>2.5K</td>\n",
       "      <td>A small child falls into the Underground, wher...</td>\n",
       "    </tr>\n",
       "    <tr>\n",
       "      <th>...</th>\n",
       "      <td>...</td>\n",
       "      <td>...</td>\n",
       "      <td>...</td>\n",
       "      <td>...</td>\n",
       "    </tr>\n",
       "    <tr>\n",
       "      <th>59973</th>\n",
       "      <td>FIFA Manager 14</td>\n",
       "      <td>2.5</td>\n",
       "      <td>0</td>\n",
       "      <td>FIFA Manager 14: Legacy Edition is a re-releas...</td>\n",
       "    </tr>\n",
       "    <tr>\n",
       "      <th>59978</th>\n",
       "      <td>Super Widget</td>\n",
       "      <td>2.7</td>\n",
       "      <td>0</td>\n",
       "      <td>Planet Earth is in danger from assorted villai...</td>\n",
       "    </tr>\n",
       "    <tr>\n",
       "      <th>59981</th>\n",
       "      <td>Pizza Delivery Boy</td>\n",
       "      <td>0.7</td>\n",
       "      <td>0</td>\n",
       "      <td>When three brothers mismanage their successful...</td>\n",
       "    </tr>\n",
       "    <tr>\n",
       "      <th>59996</th>\n",
       "      <td>Pathfinder: Kingmaker - Definitive Edition</td>\n",
       "      <td>3.7</td>\n",
       "      <td>1</td>\n",
       "      <td>The Definitive Edition will have all of the DL...</td>\n",
       "    </tr>\n",
       "    <tr>\n",
       "      <th>59999</th>\n",
       "      <td>Pathfinder: Kingmaker - Definitive Edition</td>\n",
       "      <td>3.7</td>\n",
       "      <td>1</td>\n",
       "      <td>The Definitive Edition will have all of the DL...</td>\n",
       "    </tr>\n",
       "  </tbody>\n",
       "</table>\n",
       "<p>25405 rows × 4 columns</p>\n",
       "</div>"
      ],
      "text/plain": [
       "                                            Title  Rating Reviews  \\\n",
       "0                                      Elden Ring     4.5      3K   \n",
       "1         The Legend of Zelda: Breath of the Wild     4.4      3K   \n",
       "2                                           Hades     4.3    2.1K   \n",
       "3                                   Hollow Knight     4.4    2.1K   \n",
       "4                                       Undertale     4.2    2.5K   \n",
       "...                                           ...     ...     ...   \n",
       "59973                             FIFA Manager 14     2.5       0   \n",
       "59978                                Super Widget     2.7       0   \n",
       "59981                          Pizza Delivery Boy     0.7       0   \n",
       "59996  Pathfinder: Kingmaker - Definitive Edition     3.7       1   \n",
       "59999  Pathfinder: Kingmaker - Definitive Edition     3.7       1   \n",
       "\n",
       "                                                    tags  \n",
       "0      Elden Ring is a fantasy, action and open world...  \n",
       "1      The Legend of Zelda: Breath of the Wild is the...  \n",
       "2      A rogue-lite hack and slash dungeon crawler in...  \n",
       "3      A 2D metroidvania with an emphasis on close co...  \n",
       "4      A small child falls into the Underground, wher...  \n",
       "...                                                  ...  \n",
       "59973  FIFA Manager 14: Legacy Edition is a re-releas...  \n",
       "59978  Planet Earth is in danger from assorted villai...  \n",
       "59981  When three brothers mismanage their successful...  \n",
       "59996  The Definitive Edition will have all of the DL...  \n",
       "59999  The Definitive Edition will have all of the DL...  \n",
       "\n",
       "[25405 rows x 4 columns]"
      ]
     },
     "execution_count": 9,
     "metadata": {},
     "output_type": "execute_result"
    }
   ],
   "source": [
    "new_data"
   ]
  },
  {
   "cell_type": "code",
   "execution_count": 10,
   "id": "2d3c4422",
   "metadata": {},
   "outputs": [],
   "source": [
    "#Gets rid of the 'Ratings' that are below 2 stars\n",
    "new_data = new_data[new_data['Rating'] >=2]"
   ]
  },
  {
   "cell_type": "code",
   "execution_count": 11,
   "id": "4d680a86",
   "metadata": {
    "scrolled": false
   },
   "outputs": [
    {
     "data": {
      "text/html": [
       "<div>\n",
       "<style scoped>\n",
       "    .dataframe tbody tr th:only-of-type {\n",
       "        vertical-align: middle;\n",
       "    }\n",
       "\n",
       "    .dataframe tbody tr th {\n",
       "        vertical-align: top;\n",
       "    }\n",
       "\n",
       "    .dataframe thead th {\n",
       "        text-align: right;\n",
       "    }\n",
       "</style>\n",
       "<table border=\"1\" class=\"dataframe\">\n",
       "  <thead>\n",
       "    <tr style=\"text-align: right;\">\n",
       "      <th></th>\n",
       "      <th>Title</th>\n",
       "      <th>Rating</th>\n",
       "      <th>Reviews</th>\n",
       "      <th>tags</th>\n",
       "    </tr>\n",
       "  </thead>\n",
       "  <tbody>\n",
       "    <tr>\n",
       "      <th>0</th>\n",
       "      <td>Elden Ring</td>\n",
       "      <td>4.5</td>\n",
       "      <td>3K</td>\n",
       "      <td>Elden Ring is a fantasy, action and open world...</td>\n",
       "    </tr>\n",
       "    <tr>\n",
       "      <th>1</th>\n",
       "      <td>The Legend of Zelda: Breath of the Wild</td>\n",
       "      <td>4.4</td>\n",
       "      <td>3K</td>\n",
       "      <td>The Legend of Zelda: Breath of the Wild is the...</td>\n",
       "    </tr>\n",
       "    <tr>\n",
       "      <th>2</th>\n",
       "      <td>Hades</td>\n",
       "      <td>4.3</td>\n",
       "      <td>2.1K</td>\n",
       "      <td>A rogue-lite hack and slash dungeon crawler in...</td>\n",
       "    </tr>\n",
       "    <tr>\n",
       "      <th>3</th>\n",
       "      <td>Hollow Knight</td>\n",
       "      <td>4.4</td>\n",
       "      <td>2.1K</td>\n",
       "      <td>A 2D metroidvania with an emphasis on close co...</td>\n",
       "    </tr>\n",
       "    <tr>\n",
       "      <th>4</th>\n",
       "      <td>Undertale</td>\n",
       "      <td>4.2</td>\n",
       "      <td>2.5K</td>\n",
       "      <td>A small child falls into the Underground, wher...</td>\n",
       "    </tr>\n",
       "    <tr>\n",
       "      <th>...</th>\n",
       "      <td>...</td>\n",
       "      <td>...</td>\n",
       "      <td>...</td>\n",
       "      <td>...</td>\n",
       "    </tr>\n",
       "    <tr>\n",
       "      <th>59972</th>\n",
       "      <td>Planet Crafter</td>\n",
       "      <td>3.8</td>\n",
       "      <td>3</td>\n",
       "      <td>You are sent on an hostile planet with one mis...</td>\n",
       "    </tr>\n",
       "    <tr>\n",
       "      <th>59973</th>\n",
       "      <td>FIFA Manager 14</td>\n",
       "      <td>2.5</td>\n",
       "      <td>0</td>\n",
       "      <td>FIFA Manager 14: Legacy Edition is a re-releas...</td>\n",
       "    </tr>\n",
       "    <tr>\n",
       "      <th>59978</th>\n",
       "      <td>Super Widget</td>\n",
       "      <td>2.7</td>\n",
       "      <td>0</td>\n",
       "      <td>Planet Earth is in danger from assorted villai...</td>\n",
       "    </tr>\n",
       "    <tr>\n",
       "      <th>59996</th>\n",
       "      <td>Pathfinder: Kingmaker - Definitive Edition</td>\n",
       "      <td>3.7</td>\n",
       "      <td>1</td>\n",
       "      <td>The Definitive Edition will have all of the DL...</td>\n",
       "    </tr>\n",
       "    <tr>\n",
       "      <th>59999</th>\n",
       "      <td>Pathfinder: Kingmaker - Definitive Edition</td>\n",
       "      <td>3.7</td>\n",
       "      <td>1</td>\n",
       "      <td>The Definitive Edition will have all of the DL...</td>\n",
       "    </tr>\n",
       "  </tbody>\n",
       "</table>\n",
       "<p>23227 rows × 4 columns</p>\n",
       "</div>"
      ],
      "text/plain": [
       "                                            Title  Rating Reviews  \\\n",
       "0                                      Elden Ring     4.5      3K   \n",
       "1         The Legend of Zelda: Breath of the Wild     4.4      3K   \n",
       "2                                           Hades     4.3    2.1K   \n",
       "3                                   Hollow Knight     4.4    2.1K   \n",
       "4                                       Undertale     4.2    2.5K   \n",
       "...                                           ...     ...     ...   \n",
       "59972                              Planet Crafter     3.8       3   \n",
       "59973                             FIFA Manager 14     2.5       0   \n",
       "59978                                Super Widget     2.7       0   \n",
       "59996  Pathfinder: Kingmaker - Definitive Edition     3.7       1   \n",
       "59999  Pathfinder: Kingmaker - Definitive Edition     3.7       1   \n",
       "\n",
       "                                                    tags  \n",
       "0      Elden Ring is a fantasy, action and open world...  \n",
       "1      The Legend of Zelda: Breath of the Wild is the...  \n",
       "2      A rogue-lite hack and slash dungeon crawler in...  \n",
       "3      A 2D metroidvania with an emphasis on close co...  \n",
       "4      A small child falls into the Underground, wher...  \n",
       "...                                                  ...  \n",
       "59972  You are sent on an hostile planet with one mis...  \n",
       "59973  FIFA Manager 14: Legacy Edition is a re-releas...  \n",
       "59978  Planet Earth is in danger from assorted villai...  \n",
       "59996  The Definitive Edition will have all of the DL...  \n",
       "59999  The Definitive Edition will have all of the DL...  \n",
       "\n",
       "[23227 rows x 4 columns]"
      ]
     },
     "execution_count": 11,
     "metadata": {},
     "output_type": "execute_result"
    }
   ],
   "source": [
    "new_data"
   ]
  },
  {
   "cell_type": "code",
   "execution_count": 12,
   "id": "102adb64",
   "metadata": {},
   "outputs": [],
   "source": [
    "#convert reviews into a int\n",
    "#def convertKtoInt(value):\n",
    "#    if 'K' in value:\n",
    " #       return float(value.replace('K', '')) * 1000\n",
    " #   else:\n",
    " #       return"
   ]
  },
  {
   "cell_type": "code",
   "execution_count": 13,
   "id": "226738fd",
   "metadata": {},
   "outputs": [],
   "source": [
    "#games['Reviews'] = games['Reviews'].apply(convertKtoInt)"
   ]
  },
  {
   "cell_type": "code",
   "execution_count": 14,
   "id": "7fa381ae",
   "metadata": {},
   "outputs": [],
   "source": [
    "#games['Reviews'] = pd.to_numeric(games['Reviews'],errors='coerce')\n"
   ]
  },
  {
   "cell_type": "code",
   "execution_count": 15,
   "id": "1720b26e",
   "metadata": {},
   "outputs": [],
   "source": [
    "#new_data"
   ]
  },
  {
   "cell_type": "code",
   "execution_count": null,
   "id": "d35b6371",
   "metadata": {},
   "outputs": [],
   "source": []
  },
  {
   "cell_type": "markdown",
   "id": "5883c5d3",
   "metadata": {},
   "source": [
    "COSIGN SIMILARITY"
   ]
  },
  {
   "cell_type": "code",
   "execution_count": 16,
   "id": "81d6b870",
   "metadata": {
    "scrolled": true
   },
   "outputs": [],
   "source": [
    "from sklearn.feature_extraction.text import CountVectorizer"
   ]
  },
  {
   "cell_type": "code",
   "execution_count": 17,
   "id": "ade52608",
   "metadata": {},
   "outputs": [],
   "source": [
    "cv = CountVectorizer(max_features = 23227, stop_words='english')"
   ]
  },
  {
   "cell_type": "code",
   "execution_count": 18,
   "id": "5bf7a20f",
   "metadata": {},
   "outputs": [
    {
     "data": {
      "text/html": [
       "<style>#sk-container-id-1 {color: black;}#sk-container-id-1 pre{padding: 0;}#sk-container-id-1 div.sk-toggleable {background-color: white;}#sk-container-id-1 label.sk-toggleable__label {cursor: pointer;display: block;width: 100%;margin-bottom: 0;padding: 0.3em;box-sizing: border-box;text-align: center;}#sk-container-id-1 label.sk-toggleable__label-arrow:before {content: \"▸\";float: left;margin-right: 0.25em;color: #696969;}#sk-container-id-1 label.sk-toggleable__label-arrow:hover:before {color: black;}#sk-container-id-1 div.sk-estimator:hover label.sk-toggleable__label-arrow:before {color: black;}#sk-container-id-1 div.sk-toggleable__content {max-height: 0;max-width: 0;overflow: hidden;text-align: left;background-color: #f0f8ff;}#sk-container-id-1 div.sk-toggleable__content pre {margin: 0.2em;color: black;border-radius: 0.25em;background-color: #f0f8ff;}#sk-container-id-1 input.sk-toggleable__control:checked~div.sk-toggleable__content {max-height: 200px;max-width: 100%;overflow: auto;}#sk-container-id-1 input.sk-toggleable__control:checked~label.sk-toggleable__label-arrow:before {content: \"▾\";}#sk-container-id-1 div.sk-estimator input.sk-toggleable__control:checked~label.sk-toggleable__label {background-color: #d4ebff;}#sk-container-id-1 div.sk-label input.sk-toggleable__control:checked~label.sk-toggleable__label {background-color: #d4ebff;}#sk-container-id-1 input.sk-hidden--visually {border: 0;clip: rect(1px 1px 1px 1px);clip: rect(1px, 1px, 1px, 1px);height: 1px;margin: -1px;overflow: hidden;padding: 0;position: absolute;width: 1px;}#sk-container-id-1 div.sk-estimator {font-family: monospace;background-color: #f0f8ff;border: 1px dotted black;border-radius: 0.25em;box-sizing: border-box;margin-bottom: 0.5em;}#sk-container-id-1 div.sk-estimator:hover {background-color: #d4ebff;}#sk-container-id-1 div.sk-parallel-item::after {content: \"\";width: 100%;border-bottom: 1px solid gray;flex-grow: 1;}#sk-container-id-1 div.sk-label:hover label.sk-toggleable__label {background-color: #d4ebff;}#sk-container-id-1 div.sk-serial::before {content: \"\";position: absolute;border-left: 1px solid gray;box-sizing: border-box;top: 0;bottom: 0;left: 50%;z-index: 0;}#sk-container-id-1 div.sk-serial {display: flex;flex-direction: column;align-items: center;background-color: white;padding-right: 0.2em;padding-left: 0.2em;position: relative;}#sk-container-id-1 div.sk-item {position: relative;z-index: 1;}#sk-container-id-1 div.sk-parallel {display: flex;align-items: stretch;justify-content: center;background-color: white;position: relative;}#sk-container-id-1 div.sk-item::before, #sk-container-id-1 div.sk-parallel-item::before {content: \"\";position: absolute;border-left: 1px solid gray;box-sizing: border-box;top: 0;bottom: 0;left: 50%;z-index: -1;}#sk-container-id-1 div.sk-parallel-item {display: flex;flex-direction: column;z-index: 1;position: relative;background-color: white;}#sk-container-id-1 div.sk-parallel-item:first-child::after {align-self: flex-end;width: 50%;}#sk-container-id-1 div.sk-parallel-item:last-child::after {align-self: flex-start;width: 50%;}#sk-container-id-1 div.sk-parallel-item:only-child::after {width: 0;}#sk-container-id-1 div.sk-dashed-wrapped {border: 1px dashed gray;margin: 0 0.4em 0.5em 0.4em;box-sizing: border-box;padding-bottom: 0.4em;background-color: white;}#sk-container-id-1 div.sk-label label {font-family: monospace;font-weight: bold;display: inline-block;line-height: 1.2em;}#sk-container-id-1 div.sk-label-container {text-align: center;}#sk-container-id-1 div.sk-container {/* jupyter's `normalize.less` sets `[hidden] { display: none; }` but bootstrap.min.css set `[hidden] { display: none !important; }` so we also need the `!important` here to be able to override the default hidden behavior on the sphinx rendered scikit-learn.org. See: https://github.com/scikit-learn/scikit-learn/issues/21755 */display: inline-block !important;position: relative;}#sk-container-id-1 div.sk-text-repr-fallback {display: none;}</style><div id=\"sk-container-id-1\" class=\"sk-top-container\"><div class=\"sk-text-repr-fallback\"><pre>CountVectorizer(max_features=23227, stop_words=&#x27;english&#x27;)</pre><b>In a Jupyter environment, please rerun this cell to show the HTML representation or trust the notebook. <br />On GitHub, the HTML representation is unable to render, please try loading this page with nbviewer.org.</b></div><div class=\"sk-container\" hidden><div class=\"sk-item\"><div class=\"sk-estimator sk-toggleable\"><input class=\"sk-toggleable__control sk-hidden--visually\" id=\"sk-estimator-id-1\" type=\"checkbox\" checked><label for=\"sk-estimator-id-1\" class=\"sk-toggleable__label sk-toggleable__label-arrow\">CountVectorizer</label><div class=\"sk-toggleable__content\"><pre>CountVectorizer(max_features=23227, stop_words=&#x27;english&#x27;)</pre></div></div></div></div></div>"
      ],
      "text/plain": [
       "CountVectorizer(max_features=23227, stop_words='english')"
      ]
     },
     "execution_count": 18,
     "metadata": {},
     "output_type": "execute_result"
    }
   ],
   "source": [
    "cv"
   ]
  },
  {
   "cell_type": "code",
   "execution_count": 19,
   "id": "b8482aad",
   "metadata": {},
   "outputs": [],
   "source": [
    "vector =cv.fit_transform(new_data['tags'].values.astype('U')).toarray()"
   ]
  },
  {
   "cell_type": "code",
   "execution_count": 20,
   "id": "3cc33d6e",
   "metadata": {},
   "outputs": [
    {
     "data": {
      "text/plain": [
       "(23227, 23227)"
      ]
     },
     "execution_count": 20,
     "metadata": {},
     "output_type": "execute_result"
    }
   ],
   "source": [
    "vector.shape"
   ]
  },
  {
   "cell_type": "code",
   "execution_count": 21,
   "id": "83829d3c",
   "metadata": {},
   "outputs": [],
   "source": [
    "from sklearn.metrics.pairwise import cosine_similarity"
   ]
  },
  {
   "cell_type": "code",
   "execution_count": 22,
   "id": "76a9e0bf",
   "metadata": {},
   "outputs": [],
   "source": [
    "similarity_scores = cosine_similarity(vector)"
   ]
  },
  {
   "cell_type": "code",
   "execution_count": 25,
   "id": "63da4676",
   "metadata": {},
   "outputs": [
    {
     "name": "stdout",
     "output_type": "stream",
     "text": [
      "hello\n",
      "[[1.         0.1573779  0.08823529 ... 0.0811216  0.11941629 0.11941629]\n",
      " [0.1573779  1.         0.03934447 ... 0.08526363 0.07987231 0.07987231]\n",
      " [0.08823529 0.03934447 1.         ... 0.0115888  0.02985407 0.02985407]\n",
      " ...\n",
      " [0.0811216  0.08526363 0.0115888  ... 1.         0.05881539 0.05881539]\n",
      " [0.11941629 0.07987231 0.02985407 ... 0.05881539 1.         1.        ]\n",
      " [0.11941629 0.07987231 0.02985407 ... 0.05881539 1.         1.        ]]\n"
     ]
    }
   ],
   "source": [
    "print(\"hello\")\n",
    "print(similarity_scores)"
   ]
  },
  {
   "cell_type": "code",
   "execution_count": 36,
   "id": "bc15cff3",
   "metadata": {
    "scrolled": true
   },
   "outputs": [
    {
     "name": "stdout",
     "output_type": "stream",
     "text": [
      "<class 'pandas.core.frame.DataFrame'>\n",
      "Index: 23227 entries, 0 to 59999\n",
      "Data columns (total 4 columns):\n",
      " #   Column   Non-Null Count  Dtype  \n",
      "---  ------   --------------  -----  \n",
      " 0   Title    23227 non-null  object \n",
      " 1   Rating   23227 non-null  float64\n",
      " 2   Reviews  23227 non-null  object \n",
      " 3   tags     22690 non-null  object \n",
      "dtypes: float64(1), object(3)\n",
      "memory usage: 907.3+ KB\n"
     ]
    }
   ],
   "source": [
    "new_data.info()"
   ]
  },
  {
   "cell_type": "code",
   "execution_count": 31,
   "id": "cb613e17",
   "metadata": {},
   "outputs": [
    {
     "data": {
      "text/plain": [
       "0"
      ]
     },
     "execution_count": 31,
     "metadata": {},
     "output_type": "execute_result"
    }
   ],
   "source": [
    "new_data[new_data['Title']==\"Elden Ring\"].index[0]"
   ]
  },
  {
   "cell_type": "code",
   "execution_count": 62,
   "id": "cd174e4b",
   "metadata": {},
   "outputs": [
    {
     "name": "stdout",
     "output_type": "stream",
     "text": [
      "Elden Ring: Collector's Edition\n",
      "Elden Ring: Shadow of the Erdtree\n",
      "Metamorfose S\n",
      "Metamorfose S\n",
      "Metamorfose S\n",
      "Metamorfose S\n",
      "Metamorfose S\n",
      "Total Miner\n"
     ]
    }
   ],
   "source": [
    "distance = sorted(list(enumerate(similarity_scores[0])), reverse=True, key=lambda vector:vector[1])\n",
    "for i in distance[1:9]:\n",
    "    print(new_data.iloc[i[0]].Title)"
   ]
  },
  {
   "cell_type": "code",
   "execution_count": 68,
   "id": "b409cf41",
   "metadata": {},
   "outputs": [],
   "source": [
    "def recommend(game):\n",
    "    index = new_data[new_data['Title']==game].index[0]\n",
    "    distance = sorted(list(enumerate(similarity_scores[index])), reverse=True, key=lambda vector:vector[1])\n",
    "    for i in distance[1:9]:\n",
    "        print(new_data.iloc[i[0]].Title)"
   ]
  },
  {
   "cell_type": "code",
   "execution_count": 86,
   "id": "1e2cd60c",
   "metadata": {},
   "outputs": [
    {
     "name": "stdout",
     "output_type": "stream",
     "text": [
      "Another Pokémon Game\n",
      "Pokémon Shining Pearl\n",
      "Pokémon Brilliant Diamond\n",
      "Pokémon Violet\n",
      "Pokémon Scarlet\n",
      "Pokémon Red\n",
      "Pokémon Yellow\n",
      "Pokémon Sun\n"
     ]
    }
   ],
   "source": [
    "recommend(\"Pokémon Legends: Arceus\")"
   ]
  },
  {
   "cell_type": "code",
   "execution_count": 87,
   "id": "d1f89830",
   "metadata": {},
   "outputs": [],
   "source": [
    "import pickle"
   ]
  },
  {
   "cell_type": "code",
   "execution_count": 88,
   "id": "d47f74df",
   "metadata": {},
   "outputs": [],
   "source": [
    "pickle.dump(new_data, open('games_list.pkl', 'wb'))"
   ]
  },
  {
   "cell_type": "code",
   "execution_count": null,
   "id": "4d801b04",
   "metadata": {},
   "outputs": [],
   "source": [
    "pickle.dump(similarity_scores, open('similarity_scores.pkl', 'wb'))"
   ]
  },
  {
   "cell_type": "code",
   "execution_count": 90,
   "id": "c7889b7a",
   "metadata": {},
   "outputs": [
    {
     "data": {
      "text/html": [
       "<div>\n",
       "<style scoped>\n",
       "    .dataframe tbody tr th:only-of-type {\n",
       "        vertical-align: middle;\n",
       "    }\n",
       "\n",
       "    .dataframe tbody tr th {\n",
       "        vertical-align: top;\n",
       "    }\n",
       "\n",
       "    .dataframe thead th {\n",
       "        text-align: right;\n",
       "    }\n",
       "</style>\n",
       "<table border=\"1\" class=\"dataframe\">\n",
       "  <thead>\n",
       "    <tr style=\"text-align: right;\">\n",
       "      <th></th>\n",
       "      <th>Title</th>\n",
       "      <th>Rating</th>\n",
       "      <th>Reviews</th>\n",
       "      <th>tags</th>\n",
       "    </tr>\n",
       "  </thead>\n",
       "  <tbody>\n",
       "    <tr>\n",
       "      <th>0</th>\n",
       "      <td>Elden Ring</td>\n",
       "      <td>4.5</td>\n",
       "      <td>3K</td>\n",
       "      <td>Elden Ring is a fantasy, action and open world...</td>\n",
       "    </tr>\n",
       "    <tr>\n",
       "      <th>1</th>\n",
       "      <td>The Legend of Zelda: Breath of the Wild</td>\n",
       "      <td>4.4</td>\n",
       "      <td>3K</td>\n",
       "      <td>The Legend of Zelda: Breath of the Wild is the...</td>\n",
       "    </tr>\n",
       "    <tr>\n",
       "      <th>2</th>\n",
       "      <td>Hades</td>\n",
       "      <td>4.3</td>\n",
       "      <td>2.1K</td>\n",
       "      <td>A rogue-lite hack and slash dungeon crawler in...</td>\n",
       "    </tr>\n",
       "    <tr>\n",
       "      <th>3</th>\n",
       "      <td>Hollow Knight</td>\n",
       "      <td>4.4</td>\n",
       "      <td>2.1K</td>\n",
       "      <td>A 2D metroidvania with an emphasis on close co...</td>\n",
       "    </tr>\n",
       "    <tr>\n",
       "      <th>4</th>\n",
       "      <td>Undertale</td>\n",
       "      <td>4.2</td>\n",
       "      <td>2.5K</td>\n",
       "      <td>A small child falls into the Underground, wher...</td>\n",
       "    </tr>\n",
       "    <tr>\n",
       "      <th>...</th>\n",
       "      <td>...</td>\n",
       "      <td>...</td>\n",
       "      <td>...</td>\n",
       "      <td>...</td>\n",
       "    </tr>\n",
       "    <tr>\n",
       "      <th>59972</th>\n",
       "      <td>Planet Crafter</td>\n",
       "      <td>3.8</td>\n",
       "      <td>3</td>\n",
       "      <td>You are sent on an hostile planet with one mis...</td>\n",
       "    </tr>\n",
       "    <tr>\n",
       "      <th>59973</th>\n",
       "      <td>FIFA Manager 14</td>\n",
       "      <td>2.5</td>\n",
       "      <td>0</td>\n",
       "      <td>FIFA Manager 14: Legacy Edition is a re-releas...</td>\n",
       "    </tr>\n",
       "    <tr>\n",
       "      <th>59978</th>\n",
       "      <td>Super Widget</td>\n",
       "      <td>2.7</td>\n",
       "      <td>0</td>\n",
       "      <td>Planet Earth is in danger from assorted villai...</td>\n",
       "    </tr>\n",
       "    <tr>\n",
       "      <th>59996</th>\n",
       "      <td>Pathfinder: Kingmaker - Definitive Edition</td>\n",
       "      <td>3.7</td>\n",
       "      <td>1</td>\n",
       "      <td>The Definitive Edition will have all of the DL...</td>\n",
       "    </tr>\n",
       "    <tr>\n",
       "      <th>59999</th>\n",
       "      <td>Pathfinder: Kingmaker - Definitive Edition</td>\n",
       "      <td>3.7</td>\n",
       "      <td>1</td>\n",
       "      <td>The Definitive Edition will have all of the DL...</td>\n",
       "    </tr>\n",
       "  </tbody>\n",
       "</table>\n",
       "<p>23227 rows × 4 columns</p>\n",
       "</div>"
      ],
      "text/plain": [
       "                                            Title  Rating Reviews  \\\n",
       "0                                      Elden Ring     4.5      3K   \n",
       "1         The Legend of Zelda: Breath of the Wild     4.4      3K   \n",
       "2                                           Hades     4.3    2.1K   \n",
       "3                                   Hollow Knight     4.4    2.1K   \n",
       "4                                       Undertale     4.2    2.5K   \n",
       "...                                           ...     ...     ...   \n",
       "59972                              Planet Crafter     3.8       3   \n",
       "59973                             FIFA Manager 14     2.5       0   \n",
       "59978                                Super Widget     2.7       0   \n",
       "59996  Pathfinder: Kingmaker - Definitive Edition     3.7       1   \n",
       "59999  Pathfinder: Kingmaker - Definitive Edition     3.7       1   \n",
       "\n",
       "                                                    tags  \n",
       "0      Elden Ring is a fantasy, action and open world...  \n",
       "1      The Legend of Zelda: Breath of the Wild is the...  \n",
       "2      A rogue-lite hack and slash dungeon crawler in...  \n",
       "3      A 2D metroidvania with an emphasis on close co...  \n",
       "4      A small child falls into the Underground, wher...  \n",
       "...                                                  ...  \n",
       "59972  You are sent on an hostile planet with one mis...  \n",
       "59973  FIFA Manager 14: Legacy Edition is a re-releas...  \n",
       "59978  Planet Earth is in danger from assorted villai...  \n",
       "59996  The Definitive Edition will have all of the DL...  \n",
       "59999  The Definitive Edition will have all of the DL...  \n",
       "\n",
       "[23227 rows x 4 columns]"
      ]
     },
     "execution_count": 90,
     "metadata": {},
     "output_type": "execute_result"
    }
   ],
   "source": [
    "pickle.load(open('games_list.pkl', 'rb'))"
   ]
  },
  {
   "cell_type": "code",
   "execution_count": null,
   "id": "68f104f3",
   "metadata": {},
   "outputs": [],
   "source": []
  }
 ],
 "metadata": {
  "kernelspec": {
   "display_name": "Python 3 (ipykernel)",
   "language": "python",
   "name": "python3"
  },
  "language_info": {
   "codemirror_mode": {
    "name": "ipython",
    "version": 3
   },
   "file_extension": ".py",
   "mimetype": "text/x-python",
   "name": "python",
   "nbconvert_exporter": "python",
   "pygments_lexer": "ipython3",
   "version": "3.10.5"
  }
 },
 "nbformat": 4,
 "nbformat_minor": 5
}
